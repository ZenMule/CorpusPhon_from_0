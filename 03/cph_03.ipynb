{
 "cells": [
  {
   "cell_type": "code",
   "execution_count": null,
   "metadata": {},
   "outputs": [],
   "source": [
    "import pandas as pd\n",
    "import csv, os"
   ]
  },
  {
   "cell_type": "code",
   "execution_count": null,
   "metadata": {},
   "outputs": [],
   "source": [
    "# 读取数据\n",
    "valid_path = r'C:\\Users\\samfi\\Downloads\\yue\\validated.tsv'\n",
    "valid_df = pd.read_csv(valid_path, sep = '\\t', \n",
    "                        quoting=csv.QUOTE_NONE, \n",
    "                        low_memory = False, \n",
    "                          dtype = { #\n",
    "                              'client_id': 'str',\n",
    "                              'path': 'str',\n",
    "                              'sentence_id': 'str',\n",
    "                              'sentence': 'str',\n",
    "                              'up_votes': 'int16',\n",
    "                              'down_votes': 'int16',\n",
    "                              'age': 'str',\n",
    "                              'gender': 'str',\n",
    "                              'accentes': 'str',\n",
    "                              'variant': 'str',\n",
    "                              'locale': 'str',\n",
    "                              'segment': 'str'\n",
    "                          })\n",
    "\n",
    "valid_df['speaker_id'] = pd.factorize(valid_df['client_id'])[0] + 1\n",
    "\n",
    "# 分词\n",
    "# 加载pycantonese包以使用粤语分词工具\n",
    "import pycantonese\n",
    "\n",
    "# 从validated.tsv中提取文字标注信息\n",
    "yue_sentences = valid_df['sentence'].tolist()\n",
    "\n",
    "# 使用pycantonese中的segment命令进行分词\n",
    "yue_tok = [' '.join(pycantonese.segment(sentence)) for sentence in yue_sentences]\n",
    "\n",
    "# 将分词结果添加回validated数据集\n",
    "valid_df['sentence_tok'] = pd.Series(yue_tok)\n",
    "\n",
    "# 显示结果\n",
    "print(valid_df['sentence_tok'][0:10])"
   ]
  },
  {
   "cell_type": "code",
   "execution_count": null,
   "metadata": {},
   "outputs": [],
   "source": [
    "# 读取clip_duration.tsv文件\n",
    "clip_dur_file = r\"C:\\Users\\samfi\\Downloads\\yue\\clip_durations.tsv\"\n",
    "clip_dur = pd.read_csv(clip_dur_file, sep = '\\t', dtype = {'clip': 'str', 'duration[ms]': 'float64'})\n",
    "\n",
    "# 将栏名改为path和dur，以方便与validated.tsv合并\n",
    "clip_dur.rename(columns = {'clip':'path', 'duration[ms]':'dur'}, inplace=True) \n",
    "\n",
    "# 转换成以秒为单位\n",
    "clip_dur['dur'] = clip_dur['dur']/1000 \n",
    "\n",
    "# 将其与validated.tsv数据结合在一起\n",
    "valid_df = pd.merge(valid_df, clip_dur, on='path', how='left')"
   ]
  },
  {
   "cell_type": "code",
   "execution_count": null,
   "metadata": {},
   "outputs": [],
   "source": [
    "%pip install praatio"
   ]
  },
  {
   "cell_type": "code",
   "execution_count": null,
   "metadata": {},
   "outputs": [],
   "source": [
    "# 从praatio包中加载textgrid对象\n",
    "from praatio import textgrid\n",
    "# 创建一个读取四个argumeent\n",
    "def create_textgrid(snd_file, dur, speaker_id, transcript, output_folder):\n",
    "    # 确保除了dur是浮点数以外，其他参数都是字符串\n",
    "    snd_file = str(snd_file)\n",
    "    dur = float(dur)\n",
    "    speaker_id = str(speaker_id)\n",
    "    transcript = str(transcript)\n",
    "    \n",
    "    # 创建一个空白的textgrid对象\n",
    "    tg = textgrid.Textgrid()\n",
    "\n",
    "    # 创建一个新的分段标记层(Interval tier)\n",
    "    speaker_tier = textgrid.IntervalTier(speaker_id, # 标记层名为话者id\n",
    "                                        [(0.05, dur-0.05, transcript)], # 标记段的起始时间，终止时间和文本信息\n",
    "                                        0, # 整个标记层的起始位置（应与录音相同）\n",
    "                                        dur) # 整个标记曾的结束位置（应与录音相同）\n",
    "\n",
    "    # 将该标记层添加到TextGrid对象\n",
    "    tg.addTier(speaker_tier)\n",
    "    # 获取音频文件的文件名\n",
    "    snd_name, _ = os.path.splitext(snd_file)\n",
    "    # 创建TextGrid的文件路径名\n",
    "    tg_filename = snd_name + '.TextGrid'\n",
    "    tg_path = os.path.join(output_folder, tg_filename)\n",
    "    print(tg_path, transcript)\n",
    "    # 将这个TextGrid对象存入硬盘\n",
    "    tg.save(tg_path, format='short_textgrid', includeBlankSpaces=True)"
   ]
  },
  {
   "cell_type": "code",
   "execution_count": null,
   "metadata": {},
   "outputs": [],
   "source": [
    "output_folder = r\"C:\\Users\\samfi\\Downloads\\yue\\validated\"\n",
    "for snd_file, dur, speaker_id, transcript in zip(valid_df.path, valid_df.dur, valid_df.speaker_id, valid_df.sentence_tok):\n",
    "    create_textgrid(snd_file, dur, speaker_id, transcript, output_folder)"
   ]
  }
 ],
 "metadata": {
  "kernelspec": {
   "display_name": "base",
   "language": "python",
   "name": "python3"
  },
  "language_info": {
   "codemirror_mode": {
    "name": "ipython",
    "version": 3
   },
   "file_extension": ".py",
   "mimetype": "text/x-python",
   "name": "python",
   "nbconvert_exporter": "python",
   "pygments_lexer": "ipython3",
   "version": "3.11.7"
  }
 },
 "nbformat": 4,
 "nbformat_minor": 2
}
