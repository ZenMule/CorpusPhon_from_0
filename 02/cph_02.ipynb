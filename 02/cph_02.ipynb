{
 "cells": [
  {
   "cell_type": "code",
   "execution_count": null,
   "metadata": {},
   "outputs": [],
   "source": [
    "import pandas as pd\n",
    "import csv"
   ]
  },
  {
   "cell_type": "code",
   "execution_count": null,
   "metadata": {},
   "outputs": [],
   "source": [
    "valid_path = r'C:\\Users\\samfi\\Downloads\\cv_yue\\cv-corpus-17.0-2024-03-15\\yue\\validated.tsv'\n",
    "valid_df = pd.read_csv(valid_path, sep = '\\t', \n",
    "                        quoting=csv.QUOTE_NONE, \n",
    "                        low_memory = False, \n",
    "                          dtype = { #\n",
    "                              'client_id': 'str',\n",
    "                              'path': 'str',\n",
    "                              'sentence': 'str',\n",
    "                              'up_votes': 'int16',\n",
    "                              'down_votes': 'int16',\n",
    "                              'age': 'str',\n",
    "                              'gender': 'str',\n",
    "                              'accentes': 'str',\n",
    "                              'variant': 'str',\n",
    "                              'locale': 'str',\n",
    "                              'segment': 'str'\n",
    "                          })\n",
    "print(valid_df.columns)"
   ]
  },
  {
   "cell_type": "code",
   "execution_count": null,
   "metadata": {},
   "outputs": [],
   "source": [
    "valid_df['speaker_id'] = pd.factorize(valid_df['client_id'])[0] + 1\n",
    "print('说话人编号：', valid_df['speaker_id'].unique().min(), '-', valid_df['speaker_id'].unique().max())"
   ]
  },
  {
   "cell_type": "code",
   "execution_count": null,
   "metadata": {},
   "outputs": [],
   "source": [
    "import os\n",
    "root_dir = r\"C:\\Users\\samfi\\Downloads\\cv_yue\\cv-corpus-17.0-2024-03-15\\yue\" # 用你自己电脑上的文件夹路径\n",
    "source_folder = os.path.join(root_dir, \"clips\")\n",
    "target_folder = os.path.join(root_dir, \"validated\")\n",
    "file_names = valid_df['path'].tolist()\n",
    "valid_df['source_path'] = [os.path.join(source_folder, file_name) for file_name in file_names]\n",
    "valid_df['target_path'] = [os.path.join(target_folder, file_name) for file_name in file_names]\n",
    "os.mkdir(target_folder)"
   ]
  },
  {
   "cell_type": "code",
   "execution_count": null,
   "metadata": {},
   "outputs": [],
   "source": [
    "import shutil\n",
    "for src_path, tgt_path in zip(valid_df.source_path, valid_df.target_path):\n",
    "    shutil.move(src_path, tgt_path)"
   ]
  },
  {
   "cell_type": "code",
   "execution_count": null,
   "metadata": {},
   "outputs": [],
   "source": [
    "# 安装pycantonese\n",
    "%pip install pycantonese"
   ]
  },
  {
   "cell_type": "code",
   "execution_count": null,
   "metadata": {},
   "outputs": [],
   "source": [
    "import pycantonese\n",
    "yue_sentences = valid_df['sentence'].tolist()\n",
    "print('分词前结果:')\n",
    "for i in yue_sentences[0:9]:\n",
    "    print('\\t' + i)\n",
    "print('\\n分词后结果:')\n",
    "yue_tok = [' '.join(pycantonese.segment(sentence)) for sentence in yue_sentences]\n",
    "for i in yue_tok[0:9]:\n",
    "    print('\\t' + i)"
   ]
  },
  {
   "cell_type": "code",
   "execution_count": null,
   "metadata": {},
   "outputs": [],
   "source": [
    "import re\n",
    "punct = r'[。，“”、；：？！—「」『』（）《》〈〉【】〔〕“”‘’……——～]' # 所有可能的标点符号\n",
    "yue_texts = [re.sub(punct, ' ', text) for text in yue_tok] # 将所有标点符号替代为一个半角空格\n",
    "yue_texts = [re.sub('[\\d\\s\\W]+', ' ', text) for text in yue_texts]\n",
    "for i in yue_texts[0:9]:\n",
    "    print(i)"
   ]
  },
  {
   "cell_type": "code",
   "execution_count": 52,
   "metadata": {},
   "outputs": [
    {
     "name": "stdout",
     "output_type": "stream",
     "text": [
      "〇\n",
      "㓤\n",
      "㓤親\n",
      "㖭\n",
      "㗇\n",
      "㗇人\n",
      "㗎\n",
      "㗎仔\n",
      "㗱\n"
     ]
    }
   ],
   "source": [
    "yue_words = ' '.join(yue_texts) # 将所有句子都合并为一个字符串\n",
    "yue_words = re.sub('\\s+', ' ', yue_words) # 把连续的多个空格替换为一个\n",
    "yue_words = yue_words.split(' ') # 将每个词按照空格分开\n",
    "yue_words = list(sorted(set(yue_words))) # 将每个独一无二的词取出来\n",
    "\n",
    "# 将含有拉丁字母的词剔除出单词列表\n",
    "latins = re.compile('[A-Za-z]') \n",
    "yue_words = [word for word in yue_words if not latins.search(word)]\n",
    "for item in yue_words[0:9]:\n",
    "    print(item)"
   ]
  },
  {
   "cell_type": "code",
   "execution_count": 50,
   "metadata": {},
   "outputs": [
    {
     "name": "stdout",
     "output_type": "stream",
     "text": [
      "ling4\n",
      "gat1\n",
      "gat1can1\n",
      "tim1\n",
      "gaa5\n",
      "haa1jan4\n",
      "gaa4\n",
      "gaa4zai2\n",
      "zaap6\n"
     ]
    }
   ],
   "source": [
    "jyp = []\n",
    "for word in yue_words:\n",
    "    jyutping = pycantonese.characters_to_jyutping(word)[0][1]\n",
    "    jyp.append(jyutping)\n",
    "for item in jyp[0:9]:\n",
    "    print(item)"
   ]
  },
  {
   "cell_type": "code",
   "execution_count": null,
   "metadata": {},
   "outputs": [],
   "source": [
    "%pip install epitran jamo g2pk lingpy"
   ]
  },
  {
   "cell_type": "code",
   "execution_count": 53,
   "metadata": {},
   "outputs": [
    {
     "name": "stdout",
     "output_type": "stream",
     "text": [
      "lɪŋ\n",
      "kɐtʰ\n",
      "kɐtʰt͡sʰɐn\n",
      "tʰiːm\n",
      "kaː\n",
      "haːjɐn\n",
      "kaː\n",
      "kaːt͡sɐi̯\n",
      "t͡saːpʰ\n"
     ]
    }
   ],
   "source": [
    "import epitran\n",
    "epi = epitran.Epitran('yue-Latn')\n",
    "yue_ipa = []\n",
    "for item in jyp:\n",
    "    if item is None:\n",
    "        phone = ''\n",
    "    else:\n",
    "        phone = epi.transliterate(item)\n",
    "    yue_ipa.append(phone)\n",
    "for item in yue_ipa[0:9]:\n",
    "    print(item)"
   ]
  },
  {
   "cell_type": "code",
   "execution_count": 77,
   "metadata": {},
   "outputs": [
    {
     "name": "stdout",
     "output_type": "stream",
     "text": [
      "l ɪ ŋ\n",
      "k ɐ t̚\n",
      "k ɐ t̚ t͡sʰ ɐ n\n",
      "tʰ iː m\n",
      "k aː\n",
      "h aː j ɐ n\n",
      "k aː\n",
      "k aː t͡s ɐi̯\n",
      "t͡s aː p̚\n"
     ]
    }
   ],
   "source": [
    "from lingpy import ipa2tokens # 导入能将国际音标用空格区隔开的功能ipa2tokens\n",
    "yue_trans = []\n",
    "for item in yue_ipa:\n",
    "    if item.strip() == '': # 如果该单词没有产生对应的粤语拼音则其国际音标转写也为空\n",
    "        item = ''\n",
    "    else:\n",
    "        item = re.sub(r'(p|pʰ|t|tʰ|k|kʰ)($|p|t|t͡s|s|f|k|m|n|ŋ|l|j|w|h|ʔ)', lambda m: f\"{m.group(1).replace('ʰ', '')}̚{m.group(2)}\", item) # 将音节末塞音上的送气符号去掉并添加未除阻符号\n",
    "        item = re.sub(r'j(i|y)', r'\\1', item) # 删掉i或y前的j\n",
    "        item = re.sub('wu', 'u', item) # 删掉u前的w\n",
    "        item = ' '.join(ipa2tokens(item)) # 把每个音以空格区分开\n",
    " \n",
    "    yue_trans.append(item)\n",
    "for item in yue_trans[0:9]:\n",
    "    print(item)"
   ]
  },
  {
   "cell_type": "code",
   "execution_count": 78,
   "metadata": {},
   "outputs": [
    {
     "name": "stdout",
     "output_type": "stream",
     "text": [
      "〇\tl ɪ ŋ\n",
      "㓤\tk ɐ t̚\n",
      "㓤親\tk ɐ t̚ t͡sʰ ɐ n\n",
      "㖭\ttʰ iː m\n",
      "㗇\tk aː\n",
      "㗇人\th aː j ɐ n\n",
      "㗎\tk aː\n",
      "㗎仔\tk aː t͡s ɐi̯\n",
      "㗱\tt͡s aː p̚\n"
     ]
    }
   ],
   "source": [
    "yue_dict = []\n",
    "for word, trans in zip(yue_words, yue_trans):\n",
    "    entry = word + '\\t' + trans\n",
    "    yue_dict.append(entry)\n",
    "for entry in yue_dict[0:9]:\n",
    "    print(entry)\n",
    "    "
   ]
  },
  {
   "cell_type": "code",
   "execution_count": 81,
   "metadata": {},
   "outputs": [
    {
     "name": "stdout",
     "output_type": "stream",
     "text": [
      "The dictionary is saved to: C:\\Users\\samfi\\Downloads\\cv_yue\\cv-corpus-17.0-2024-03-15\\yue\\yue_dict.txt\n"
     ]
    }
   ],
   "source": [
    "dict_file = r\"C:\\Users\\samfi\\Downloads\\cv_yue\\cv-corpus-17.0-2024-03-15\\yue\\yue_dict.txt\" # 替换为你电脑上的路径\n",
    "with open(dict_file, 'w') as f:\n",
    "    for entry in yue_dict:\n",
    "        f.write(entry + '\\n')\n",
    "print(\"The dictionary is saved to:\", dict_file)"
   ]
  }
 ],
 "metadata": {
  "kernelspec": {
   "display_name": "base",
   "language": "python",
   "name": "python3"
  },
  "language_info": {
   "codemirror_mode": {
    "name": "ipython",
    "version": 3
   },
   "file_extension": ".py",
   "mimetype": "text/x-python",
   "name": "python",
   "nbconvert_exporter": "python",
   "pygments_lexer": "ipython3",
   "version": "3.11.7"
  }
 },
 "nbformat": 4,
 "nbformat_minor": 2
}
