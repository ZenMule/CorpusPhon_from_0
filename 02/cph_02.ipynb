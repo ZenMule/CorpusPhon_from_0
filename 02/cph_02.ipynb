{
 "cells": [
  {
   "cell_type": "code",
   "execution_count": 2,
   "metadata": {},
   "outputs": [],
   "source": [
    "import pandas as pd\n",
    "import csv"
   ]
  },
  {
   "cell_type": "code",
   "execution_count": 4,
   "metadata": {},
   "outputs": [
    {
     "name": "stdout",
     "output_type": "stream",
     "text": [
      "Index(['client_id', 'path', 'sentence_id', 'sentence', 'sentence_domain',\n",
      "       'up_votes', 'down_votes', 'age', 'gender', 'accents', 'variant',\n",
      "       'locale', 'segment'],\n",
      "      dtype='object')\n"
     ]
    }
   ],
   "source": [
    "valid_path = r'C:\\Users\\samfi\\Downloads\\yue\\validated.tsv'\n",
    "valid_df = pd.read_csv(valid_path, sep = '\\t', \n",
    "                        quoting=csv.QUOTE_NONE, \n",
    "                        low_memory = False, \n",
    "                          dtype = { #\n",
    "                              'client_id': 'str',\n",
    "                              'path': 'str',\n",
    "                              'sentence_id': 'str',\n",
    "                              'sentence': 'str',\n",
    "                              'up_votes': 'int16',\n",
    "                              'down_votes': 'int16',\n",
    "                              'age': 'str',\n",
    "                              'gender': 'str',\n",
    "                              'accentes': 'str',\n",
    "                              'variant': 'str',\n",
    "                              'locale': 'str',\n",
    "                              'segment': 'str'\n",
    "                          })\n",
    "print(valid_df.columns)"
   ]
  },
  {
   "cell_type": "code",
   "execution_count": 5,
   "metadata": {},
   "outputs": [
    {
     "name": "stdout",
     "output_type": "stream",
     "text": [
      "说话人编号： 1 - 700\n"
     ]
    }
   ],
   "source": [
    "valid_df['speaker_id'] = pd.factorize(valid_df['client_id'])[0] + 1\n",
    "print('说话人编号：', valid_df['speaker_id'].unique().min(), '-', valid_df['speaker_id'].unique().max())"
   ]
  },
  {
   "cell_type": "code",
   "execution_count": 8,
   "metadata": {},
   "outputs": [
    {
     "ename": "FileExistsError",
     "evalue": "[WinError 183] 当文件已存在时，无法创建该文件。: 'C:\\\\Users\\\\samfi\\\\Downloads\\\\yue\\\\validated'",
     "output_type": "error",
     "traceback": [
      "\u001b[1;31m---------------------------------------------------------------------------\u001b[0m",
      "\u001b[1;31mFileExistsError\u001b[0m                           Traceback (most recent call last)",
      "Cell \u001b[1;32mIn[8], line 8\u001b[0m\n\u001b[0;32m      6\u001b[0m valid_df[\u001b[38;5;124m'\u001b[39m\u001b[38;5;124msource_path\u001b[39m\u001b[38;5;124m'\u001b[39m] \u001b[38;5;241m=\u001b[39m [os\u001b[38;5;241m.\u001b[39mpath\u001b[38;5;241m.\u001b[39mjoin(source_folder, file_name) \u001b[38;5;28;01mfor\u001b[39;00m file_name \u001b[38;5;129;01min\u001b[39;00m file_names]\n\u001b[0;32m      7\u001b[0m valid_df[\u001b[38;5;124m'\u001b[39m\u001b[38;5;124mtarget_path\u001b[39m\u001b[38;5;124m'\u001b[39m] \u001b[38;5;241m=\u001b[39m [os\u001b[38;5;241m.\u001b[39mpath\u001b[38;5;241m.\u001b[39mjoin(target_folder, file_name) \u001b[38;5;28;01mfor\u001b[39;00m file_name \u001b[38;5;129;01min\u001b[39;00m file_names]\n\u001b[1;32m----> 8\u001b[0m os\u001b[38;5;241m.\u001b[39mmkdir(target_folder)\n",
      "\u001b[1;31mFileExistsError\u001b[0m: [WinError 183] 当文件已存在时，无法创建该文件。: 'C:\\\\Users\\\\samfi\\\\Downloads\\\\yue\\\\validated'"
     ]
    }
   ],
   "source": [
    "import os\n",
    "root_dir = r\"C:\\Users\\samfi\\Downloads\\yue\" # 用你自己电脑上的文件夹路径\n",
    "source_folder = os.path.join(root_dir, \"clips\")\n",
    "target_folder = os.path.join(root_dir, \"validated\")\n",
    "file_names = valid_df['path'].tolist()\n",
    "valid_df['source_path'] = [os.path.join(source_folder, file_name) for file_name in file_names]\n",
    "valid_df['target_path'] = [os.path.join(target_folder, file_name) for file_name in file_names]\n",
    "os.mkdir(target_folder)"
   ]
  },
  {
   "cell_type": "code",
   "execution_count": null,
   "metadata": {},
   "outputs": [],
   "source": [
    "import shutil\n",
    "for src_path, tgt_path in zip(valid_df.source_path, valid_df.target_path):\n",
    "    shutil.move(src_path, tgt_path)"
   ]
  },
  {
   "cell_type": "code",
   "execution_count": null,
   "metadata": {},
   "outputs": [],
   "source": [
    "# 安装pycantonese\n",
    "%pip install pycantonese"
   ]
  },
  {
   "cell_type": "code",
   "execution_count": 9,
   "metadata": {},
   "outputs": [
    {
     "name": "stdout",
     "output_type": "stream",
     "text": [
      "分词前结果:\n",
      "\t冇事，唔緊要\n",
      "\t驚佢唔搞落去\n",
      "\t嗰個幫我整影片嘅朋友都同我提過佢\n",
      "\t乜鬼嘢記憶力？\n",
      "\t好啦，麻煩晒，再見！\n",
      "\t我知係唔啱時侯去要求你哋原諒我\n",
      "\t拼音靠打詞打句可以降重\n",
      "\t你以為我真係咁膚淺咩？\n",
      "\t嗰個係因為我哋呢邊有規範嘅，請你理解下\n",
      "\n",
      "分词后结果:\n",
      "\t冇事 ， 唔緊要\n",
      "\t驚 佢 唔 搞落去\n",
      "\t嗰個 幫 我 整 影片 嘅 朋友 都 同 我 提過 佢\n",
      "\t乜鬼嘢 記憶力 ？\n",
      "\t好 啦 ， 麻煩 晒 ， 再見 ！\n",
      "\t我 知 係 唔 啱 時侯 去 要求 你哋 原諒 我\n",
      "\t拼音 靠 打 詞 打 句 可以 降 重\n",
      "\t你 以為 我 真係 咁 膚淺 咩 ？\n",
      "\t嗰個 係 因為 我哋 呢 邊有 規範 嘅 ， 請 你 理解 下\n"
     ]
    }
   ],
   "source": [
    "import pycantonese\n",
    "yue_sentences = valid_df['sentence'].tolist()\n",
    "print('分词前结果:')\n",
    "for i in yue_sentences[0:9]:\n",
    "    print('\\t' + i)\n",
    "print('\\n分词后结果:')\n",
    "yue_tok = [' '.join(pycantonese.segment(sentence)) for sentence in yue_sentences]\n",
    "for i in yue_tok[0:9]:\n",
    "    print('\\t' + i)"
   ]
  },
  {
   "cell_type": "code",
   "execution_count": 10,
   "metadata": {},
   "outputs": [
    {
     "name": "stdout",
     "output_type": "stream",
     "text": [
      "冇事 唔緊要\n",
      "驚 佢 唔 搞落去\n",
      "嗰個 幫 我 整 影片 嘅 朋友 都 同 我 提過 佢\n",
      "乜鬼嘢 記憶力 \n",
      "好 啦 麻煩 晒 再見 \n",
      "我 知 係 唔 啱 時侯 去 要求 你哋 原諒 我\n",
      "拼音 靠 打 詞 打 句 可以 降 重\n",
      "你 以為 我 真係 咁 膚淺 咩 \n",
      "嗰個 係 因為 我哋 呢 邊有 規範 嘅 請 你 理解 下\n"
     ]
    }
   ],
   "source": [
    "import re\n",
    "punct = r'[。，“”、；：？！—「」『』（）《》〈〉【】〔〕“”‘’……——～]' # 所有可能的标点符号\n",
    "yue_texts = [re.sub(punct, ' ', text) for text in yue_tok] # 将所有标点符号替代为一个半角空格\n",
    "yue_texts = [re.sub('[\\d\\s\\W]+', ' ', text) for text in yue_texts]\n",
    "for i in yue_texts[0:9]:\n",
    "    print(i)"
   ]
  },
  {
   "cell_type": "code",
   "execution_count": 11,
   "metadata": {},
   "outputs": [
    {
     "name": "stdout",
     "output_type": "stream",
     "text": [
      "〇\n",
      "㓤\n",
      "㓤親\n",
      "㖭\n",
      "㗇\n",
      "㗇人\n",
      "㗎\n",
      "㗎仔\n",
      "㗱\n"
     ]
    }
   ],
   "source": [
    "yue_words = ' '.join(yue_texts) # 将所有句子都合并为一个字符串\n",
    "yue_words = re.sub('\\s+', ' ', yue_words) # 把连续的多个空格替换为一个\n",
    "yue_words = yue_words.split(' ') # 将每个词按照空格分开\n",
    "yue_words = list(sorted(set(yue_words))) # 将每个独一无二的词取出来\n",
    "\n",
    "# 将含有拉丁字母的词剔除出单词列表\n",
    "latins = re.compile('[A-Za-z]') \n",
    "yue_words = [word for word in yue_words if not latins.search(word)]\n",
    "for item in yue_words[0:9]:\n",
    "    print(item)"
   ]
  },
  {
   "cell_type": "code",
   "execution_count": 12,
   "metadata": {},
   "outputs": [
    {
     "name": "stdout",
     "output_type": "stream",
     "text": [
      "ling4\n",
      "gat1\n",
      "gat1can1\n",
      "tim1\n",
      "gaa5\n",
      "haa1jan4\n",
      "gaa4\n",
      "gaa4zai2\n",
      "zaap6\n"
     ]
    }
   ],
   "source": [
    "jyp = []\n",
    "for word in yue_words:\n",
    "    jyutping = pycantonese.characters_to_jyutping(word)[0][1]\n",
    "    jyp.append(jyutping)\n",
    "for item in jyp[0:9]:\n",
    "    print(item)"
   ]
  },
  {
   "cell_type": "code",
   "execution_count": null,
   "metadata": {},
   "outputs": [],
   "source": [
    "%pip install epitran jamo g2pk lingpy"
   ]
  },
  {
   "cell_type": "code",
   "execution_count": 14,
   "metadata": {},
   "outputs": [
    {
     "name": "stdout",
     "output_type": "stream",
     "text": [
      "lɪŋ\n",
      "kɐtʰ\n",
      "kɐtʰt͡sʰɐn\n",
      "tʰiːm\n",
      "kaː\n",
      "haːjɐn\n",
      "kaː\n",
      "kaːt͡sɐi̯\n",
      "t͡saːpʰ\n"
     ]
    }
   ],
   "source": [
    "import epitran\n",
    "epi = epitran.Epitran('yue-Latn')\n",
    "yue_ipa = []\n",
    "for item in jyp:\n",
    "    if item is None:\n",
    "        phone = ''\n",
    "    else:\n",
    "        phone = epi.transliterate(item)\n",
    "    yue_ipa.append(phone)\n",
    "for item in yue_ipa[0:9]:\n",
    "    print(item)"
   ]
  },
  {
   "cell_type": "code",
   "execution_count": 16,
   "metadata": {},
   "outputs": [
    {
     "name": "stdout",
     "output_type": "stream",
     "text": [
      "l ɪ ŋ\n",
      "k ɐ t̚\n",
      "k ɐ t̚ t͡sʰ ɐ n\n",
      "tʰ iː m\n",
      "k aː\n",
      "h aː j ɐ n\n",
      "k aː\n",
      "k aː t͡s ɐi̯\n",
      "t͡s aː p̚\n"
     ]
    }
   ],
   "source": [
    "from lingpy import ipa2tokens # 导入能将国际音标用空格区隔开的功能ipa2tokens\n",
    "yue_trans = []\n",
    "for item in yue_ipa:\n",
    "    if item.strip() == '': # 如果该单词没有产生对应的粤语拼音则其国际音标转写也为空\n",
    "        item = ''\n",
    "    else:\n",
    "        item = re.sub(r'(p|pʰ|t|tʰ|k|kʰ)($|p|t|t͡s|s|f|k|m|n|ŋ|l|j|w|h|ʔ)', lambda m: f\"{m.group(1).replace('ʰ', '')}̚{m.group(2)}\", item) # 将音节末塞音上的送气符号去掉并添加未除阻符号\n",
    "        item = re.sub(r'j(i|y)', r'\\1', item) # 删掉i或y前的j\n",
    "        item = re.sub('wu', 'u', item) # 删掉u前的w\n",
    "        item = ' '.join(ipa2tokens(item)) # 把每个音以空格区分开\n",
    " \n",
    "    yue_trans.append(item)\n",
    "for item in yue_trans[0:9]:\n",
    "    print(item)"
   ]
  },
  {
   "cell_type": "code",
   "execution_count": 17,
   "metadata": {},
   "outputs": [
    {
     "name": "stdout",
     "output_type": "stream",
     "text": [
      "〇\tl ɪ ŋ\n",
      "㓤\tk ɐ t̚\n",
      "㓤親\tk ɐ t̚ t͡sʰ ɐ n\n",
      "㖭\ttʰ iː m\n",
      "㗇\tk aː\n",
      "㗇人\th aː j ɐ n\n",
      "㗎\tk aː\n",
      "㗎仔\tk aː t͡s ɐi̯\n",
      "㗱\tt͡s aː p̚\n"
     ]
    }
   ],
   "source": [
    "yue_dict = []\n",
    "for word, trans in zip(yue_words, yue_trans):\n",
    "    if trans.strip() != '':\n",
    "        entry = word + '\\t' + trans\n",
    "        yue_dict.append(entry)\n",
    "for entry in yue_dict[0:9]:\n",
    "    print(entry)\n",
    "    "
   ]
  },
  {
   "cell_type": "code",
   "execution_count": 20,
   "metadata": {},
   "outputs": [
    {
     "name": "stdout",
     "output_type": "stream",
     "text": [
      "The dictionary is saved to: C:\\Users\\samfi\\Downloads\\yue\\yue_dict.txt\n"
     ]
    }
   ],
   "source": [
    "dict_file = r\"C:\\Users\\samfi\\Downloads\\yue\\yue_dict.txt\" # 替换为你电脑上的路径\n",
    "with open(dict_file, 'w') as f:\n",
    "    for entry in yue_dict:\n",
    "        f.write(entry + '\\n')\n",
    "print(\"The dictionary is saved to:\", dict_file)"
   ]
  }
 ],
 "metadata": {
  "kernelspec": {
   "display_name": "base",
   "language": "python",
   "name": "python3"
  },
  "language_info": {
   "codemirror_mode": {
    "name": "ipython",
    "version": 3
   },
   "file_extension": ".py",
   "mimetype": "text/x-python",
   "name": "python",
   "nbconvert_exporter": "python",
   "pygments_lexer": "ipython3",
   "version": "3.11.7"
  }
 },
 "nbformat": 4,
 "nbformat_minor": 2
}
